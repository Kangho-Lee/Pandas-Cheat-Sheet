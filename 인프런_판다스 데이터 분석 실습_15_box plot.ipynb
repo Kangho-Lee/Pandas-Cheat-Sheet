{
 "cells": [
  {
   "cell_type": "markdown",
   "metadata": {},
   "source": [
    "# box plot\n",
    "- https://pandas.pydata.org/pandas-docs/stable/user_guide/visualization.html\n",
    "- box-and-whisker plot, box-and-whisker diagram\n",
    "- 상자 수염 그림 - 위키백과, 우리 모두의 백과사전\n",
    "- 가공하지 않은 자료 그대로를 이용하여 그린 것이 아니라, 자료로부터 얻어낸 통계량인 5가지 요약 수치로 그린다.\n",
    "- 5가지 요약 수치란 기술통계학에서 자료의 정보를 알려주는 아래의 다섯 가지 수치를 의미한다.\n",
    "\n",
    "최솟값\n",
    "- 제 1사분위수\n",
    "- 제 2사분위수( ), 즉 중앙값\n",
    "- 제 3 사분위 수( )\n",
    "- 최댓값"
   ]
  },
  {
   "cell_type": "code",
   "execution_count": 1,
   "metadata": {},
   "outputs": [],
   "source": [
    "import pandas as pd\n",
    "import numpy as np\n",
    "import matplotlib.pyplot as plt\n",
    "import matplotlib as mpl\n",
    "\n",
    "%matplotlib inline\n",
    "# 한글폰트 사용시 그래프에서 마이너스 폰트 깨지는 문제에 대한 대처\n",
    "mpl.rcParams['axes.unicode_minus'] = False"
   ]
  },
  {
   "cell_type": "code",
   "execution_count": 4,
   "metadata": {},
   "outputs": [
    {
     "data": {
      "text/html": [
       "<div>\n",
       "<style scoped>\n",
       "    .dataframe tbody tr th:only-of-type {\n",
       "        vertical-align: middle;\n",
       "    }\n",
       "\n",
       "    .dataframe tbody tr th {\n",
       "        vertical-align: top;\n",
       "    }\n",
       "\n",
       "    .dataframe thead th {\n",
       "        text-align: right;\n",
       "    }\n",
       "</style>\n",
       "<table border=\"1\" class=\"dataframe\">\n",
       "  <thead>\n",
       "    <tr style=\"text-align: right;\">\n",
       "      <th></th>\n",
       "      <th>A</th>\n",
       "      <th>B</th>\n",
       "      <th>C</th>\n",
       "      <th>D</th>\n",
       "      <th>E</th>\n",
       "    </tr>\n",
       "  </thead>\n",
       "  <tbody>\n",
       "    <tr>\n",
       "      <th>0</th>\n",
       "      <td>0.163416</td>\n",
       "      <td>0.672711</td>\n",
       "      <td>0.277506</td>\n",
       "      <td>0.060346</td>\n",
       "      <td>0.400403</td>\n",
       "    </tr>\n",
       "    <tr>\n",
       "      <th>1</th>\n",
       "      <td>0.799235</td>\n",
       "      <td>0.269258</td>\n",
       "      <td>0.212856</td>\n",
       "      <td>0.752668</td>\n",
       "      <td>0.161278</td>\n",
       "    </tr>\n",
       "    <tr>\n",
       "      <th>2</th>\n",
       "      <td>0.724710</td>\n",
       "      <td>0.047140</td>\n",
       "      <td>0.566759</td>\n",
       "      <td>0.592940</td>\n",
       "      <td>0.795223</td>\n",
       "    </tr>\n",
       "    <tr>\n",
       "      <th>3</th>\n",
       "      <td>0.740751</td>\n",
       "      <td>0.157014</td>\n",
       "      <td>0.824441</td>\n",
       "      <td>0.587856</td>\n",
       "      <td>0.118475</td>\n",
       "    </tr>\n",
       "    <tr>\n",
       "      <th>4</th>\n",
       "      <td>0.972245</td>\n",
       "      <td>0.437231</td>\n",
       "      <td>0.155009</td>\n",
       "      <td>0.715403</td>\n",
       "      <td>0.775970</td>\n",
       "    </tr>\n",
       "    <tr>\n",
       "      <th>5</th>\n",
       "      <td>0.738722</td>\n",
       "      <td>0.054254</td>\n",
       "      <td>0.792151</td>\n",
       "      <td>0.219886</td>\n",
       "      <td>0.563559</td>\n",
       "    </tr>\n",
       "    <tr>\n",
       "      <th>6</th>\n",
       "      <td>0.375807</td>\n",
       "      <td>0.876867</td>\n",
       "      <td>0.253785</td>\n",
       "      <td>0.500207</td>\n",
       "      <td>0.375255</td>\n",
       "    </tr>\n",
       "    <tr>\n",
       "      <th>7</th>\n",
       "      <td>0.653386</td>\n",
       "      <td>0.125229</td>\n",
       "      <td>0.447496</td>\n",
       "      <td>0.263946</td>\n",
       "      <td>0.699128</td>\n",
       "    </tr>\n",
       "    <tr>\n",
       "      <th>8</th>\n",
       "      <td>0.065639</td>\n",
       "      <td>0.690928</td>\n",
       "      <td>0.342799</td>\n",
       "      <td>0.969112</td>\n",
       "      <td>0.180872</td>\n",
       "    </tr>\n",
       "    <tr>\n",
       "      <th>9</th>\n",
       "      <td>0.812178</td>\n",
       "      <td>0.153362</td>\n",
       "      <td>0.744416</td>\n",
       "      <td>0.011208</td>\n",
       "      <td>0.442457</td>\n",
       "    </tr>\n",
       "  </tbody>\n",
       "</table>\n",
       "</div>"
      ],
      "text/plain": [
       "          A         B         C         D         E\n",
       "0  0.163416  0.672711  0.277506  0.060346  0.400403\n",
       "1  0.799235  0.269258  0.212856  0.752668  0.161278\n",
       "2  0.724710  0.047140  0.566759  0.592940  0.795223\n",
       "3  0.740751  0.157014  0.824441  0.587856  0.118475\n",
       "4  0.972245  0.437231  0.155009  0.715403  0.775970\n",
       "5  0.738722  0.054254  0.792151  0.219886  0.563559\n",
       "6  0.375807  0.876867  0.253785  0.500207  0.375255\n",
       "7  0.653386  0.125229  0.447496  0.263946  0.699128\n",
       "8  0.065639  0.690928  0.342799  0.969112  0.180872\n",
       "9  0.812178  0.153362  0.744416  0.011208  0.442457"
      ]
     },
     "execution_count": 4,
     "metadata": {},
     "output_type": "execute_result"
    }
   ],
   "source": [
    "df = pd.DataFrame(np.random.rand(10, 5), columns=['A', 'B', 'C', 'D', 'E'])\n",
    "df"
   ]
  },
  {
   "cell_type": "code",
   "execution_count": 5,
   "metadata": {},
   "outputs": [
    {
     "data": {
      "text/plain": [
       "<matplotlib.axes._subplots.AxesSubplot at 0x122877610>"
      ]
     },
     "execution_count": 5,
     "metadata": {},
     "output_type": "execute_result"
    },
    {
     "data": {
      "image/png": "[encoded data removed]",
      "text/plain": [
       "<Figure size 432x288 with 1 Axes>"
      ]
     },
     "metadata": {
      "needs_background": "light"
     },
     "output_type": "display_data"
    }
   ],
   "source": [
    "df.plot.box()"
   ]
  },
  {
   "cell_type": "code",
   "execution_count": 6,
   "metadata": {},
   "outputs": [
    {
     "data": {
      "text/html": [
       "<div>\n",
       "<style scoped>\n",
       "    .dataframe tbody tr th:only-of-type {\n",
       "        vertical-align: middle;\n",
       "    }\n",
       "\n",
       "    .dataframe tbody tr th {\n",
       "        vertical-align: top;\n",
       "    }\n",
       "\n",
       "    .dataframe thead th {\n",
       "        text-align: right;\n",
       "    }\n",
       "</style>\n",
       "<table border=\"1\" class=\"dataframe\">\n",
       "  <thead>\n",
       "    <tr style=\"text-align: right;\">\n",
       "      <th></th>\n",
       "      <th>A</th>\n",
       "      <th>B</th>\n",
       "      <th>C</th>\n",
       "      <th>D</th>\n",
       "      <th>E</th>\n",
       "    </tr>\n",
       "  </thead>\n",
       "  <tbody>\n",
       "    <tr>\n",
       "      <th>count</th>\n",
       "      <td>10.000000</td>\n",
       "      <td>10.000000</td>\n",
       "      <td>10.000000</td>\n",
       "      <td>10.000000</td>\n",
       "      <td>10.000000</td>\n",
       "    </tr>\n",
       "    <tr>\n",
       "      <th>mean</th>\n",
       "      <td>0.604609</td>\n",
       "      <td>0.348399</td>\n",
       "      <td>0.461722</td>\n",
       "      <td>0.467357</td>\n",
       "      <td>0.451262</td>\n",
       "    </tr>\n",
       "    <tr>\n",
       "      <th>std</th>\n",
       "      <td>0.299432</td>\n",
       "      <td>0.301420</td>\n",
       "      <td>0.253689</td>\n",
       "      <td>0.316650</td>\n",
       "      <td>0.252583</td>\n",
       "    </tr>\n",
       "    <tr>\n",
       "      <th>min</th>\n",
       "      <td>0.065639</td>\n",
       "      <td>0.047140</td>\n",
       "      <td>0.155009</td>\n",
       "      <td>0.011208</td>\n",
       "      <td>0.118475</td>\n",
       "    </tr>\n",
       "    <tr>\n",
       "      <th>25%</th>\n",
       "      <td>0.445202</td>\n",
       "      <td>0.132262</td>\n",
       "      <td>0.259715</td>\n",
       "      <td>0.230901</td>\n",
       "      <td>0.229467</td>\n",
       "    </tr>\n",
       "    <tr>\n",
       "      <th>50%</th>\n",
       "      <td>0.731716</td>\n",
       "      <td>0.213136</td>\n",
       "      <td>0.395147</td>\n",
       "      <td>0.544031</td>\n",
       "      <td>0.421430</td>\n",
       "    </tr>\n",
       "    <tr>\n",
       "      <th>75%</th>\n",
       "      <td>0.784614</td>\n",
       "      <td>0.613841</td>\n",
       "      <td>0.700002</td>\n",
       "      <td>0.684787</td>\n",
       "      <td>0.665236</td>\n",
       "    </tr>\n",
       "    <tr>\n",
       "      <th>max</th>\n",
       "      <td>0.972245</td>\n",
       "      <td>0.876867</td>\n",
       "      <td>0.824441</td>\n",
       "      <td>0.969112</td>\n",
       "      <td>0.795223</td>\n",
       "    </tr>\n",
       "  </tbody>\n",
       "</table>\n",
       "</div>"
      ],
      "text/plain": [
       "               A          B          C          D          E\n",
       "count  10.000000  10.000000  10.000000  10.000000  10.000000\n",
       "mean    0.604609   0.348399   0.461722   0.467357   0.451262\n",
       "std     0.299432   0.301420   0.253689   0.316650   0.252583\n",
       "min     0.065639   0.047140   0.155009   0.011208   0.118475\n",
       "25%     0.445202   0.132262   0.259715   0.230901   0.229467\n",
       "50%     0.731716   0.213136   0.395147   0.544031   0.421430\n",
       "75%     0.784614   0.613841   0.700002   0.684787   0.665236\n",
       "max     0.972245   0.876867   0.824441   0.969112   0.795223"
      ]
     },
     "execution_count": 6,
     "metadata": {},
     "output_type": "execute_result"
    }
   ],
   "source": [
    "df.describe()"
   ]
  },
  {
   "cell_type": "code",
   "execution_count": 7,
   "metadata": {},
   "outputs": [],
   "source": [
    "color = {'boxes': 'DarkGreen', 'whiskers': 'DarkOrange',\n",
    "         'medians': 'DarkBlue', 'caps': 'Gray'}"
   ]
  },
  {
   "cell_type": "code",
   "execution_count": 8,
   "metadata": {},
   "outputs": [
    {
     "data": {
      "text/plain": [
       "<matplotlib.axes._subplots.AxesSubplot at 0x1249f0940>"
      ]
     },
     "execution_count": 8,
     "metadata": {},
     "output_type": "execute_result"
    },
    {
     "data": {
      "image/png": "[encoded data removed]",
      "text/plain": [
       "<Figure size 432x288 with 1 Axes>"
      ]
     },
     "metadata": {
      "needs_background": "light"
     },
     "output_type": "display_data"
    }
   ],
   "source": [
    "df.plot.box(color=color, sym='r+')"
   ]
  },
  {
   "cell_type": "code",
   "execution_count": 11,
   "metadata": {},
   "outputs": [
    {
     "data": {
      "text/plain": [
       "<matplotlib.axes._subplots.AxesSubplot at 0x124b46790>"
      ]
     },
     "execution_count": 11,
     "metadata": {},
     "output_type": "execute_result"
    },
    {
     "data": {
      "image/png": "[encoded data removed]",
      "text/plain": [
       "<Figure size 432x288 with 1 Axes>"
      ]
     },
     "metadata": {
      "needs_background": "light"
     },
     "output_type": "display_data"
    }
   ],
   "source": [
    "df.plot.box(vert=False, positions=[1, 4, 5, 6, 8])"
   ]
  },
  {
   "cell_type": "code",
   "execution_count": 10,
   "metadata": {},
   "outputs": [
    {
     "data": {
      "text/html": [
       "<div>\n",
       "<style scoped>\n",
       "    .dataframe tbody tr th:only-of-type {\n",
       "        vertical-align: middle;\n",
       "    }\n",
       "\n",
       "    .dataframe tbody tr th {\n",
       "        vertical-align: top;\n",
       "    }\n",
       "\n",
       "    .dataframe thead th {\n",
       "        text-align: right;\n",
       "    }\n",
       "</style>\n",
       "<table border=\"1\" class=\"dataframe\">\n",
       "  <thead>\n",
       "    <tr style=\"text-align: right;\">\n",
       "      <th></th>\n",
       "      <th>0</th>\n",
       "      <th>1</th>\n",
       "      <th>2</th>\n",
       "      <th>3</th>\n",
       "      <th>4</th>\n",
       "    </tr>\n",
       "  </thead>\n",
       "  <tbody>\n",
       "    <tr>\n",
       "      <th>0</th>\n",
       "      <td>0.931942</td>\n",
       "      <td>0.006906</td>\n",
       "      <td>0.104345</td>\n",
       "      <td>0.606355</td>\n",
       "      <td>0.832530</td>\n",
       "    </tr>\n",
       "    <tr>\n",
       "      <th>1</th>\n",
       "      <td>0.842246</td>\n",
       "      <td>0.580321</td>\n",
       "      <td>0.073481</td>\n",
       "      <td>0.946452</td>\n",
       "      <td>0.498966</td>\n",
       "    </tr>\n",
       "    <tr>\n",
       "      <th>2</th>\n",
       "      <td>0.243707</td>\n",
       "      <td>0.886660</td>\n",
       "      <td>0.108087</td>\n",
       "      <td>0.724643</td>\n",
       "      <td>0.899571</td>\n",
       "    </tr>\n",
       "    <tr>\n",
       "      <th>3</th>\n",
       "      <td>0.832235</td>\n",
       "      <td>0.599935</td>\n",
       "      <td>0.567816</td>\n",
       "      <td>0.761269</td>\n",
       "      <td>0.252595</td>\n",
       "    </tr>\n",
       "    <tr>\n",
       "      <th>4</th>\n",
       "      <td>0.621047</td>\n",
       "      <td>0.279806</td>\n",
       "      <td>0.928731</td>\n",
       "      <td>0.772116</td>\n",
       "      <td>0.244789</td>\n",
       "    </tr>\n",
       "    <tr>\n",
       "      <th>5</th>\n",
       "      <td>0.816036</td>\n",
       "      <td>0.836349</td>\n",
       "      <td>0.734068</td>\n",
       "      <td>0.917637</td>\n",
       "      <td>0.883636</td>\n",
       "    </tr>\n",
       "    <tr>\n",
       "      <th>6</th>\n",
       "      <td>0.043016</td>\n",
       "      <td>0.118187</td>\n",
       "      <td>0.847845</td>\n",
       "      <td>0.969754</td>\n",
       "      <td>0.756291</td>\n",
       "    </tr>\n",
       "    <tr>\n",
       "      <th>7</th>\n",
       "      <td>0.661960</td>\n",
       "      <td>0.283802</td>\n",
       "      <td>0.672630</td>\n",
       "      <td>0.266348</td>\n",
       "      <td>0.112762</td>\n",
       "    </tr>\n",
       "    <tr>\n",
       "      <th>8</th>\n",
       "      <td>0.937726</td>\n",
       "      <td>0.126805</td>\n",
       "      <td>0.685633</td>\n",
       "      <td>0.111199</td>\n",
       "      <td>0.044366</td>\n",
       "    </tr>\n",
       "    <tr>\n",
       "      <th>9</th>\n",
       "      <td>0.436026</td>\n",
       "      <td>0.667215</td>\n",
       "      <td>0.128041</td>\n",
       "      <td>0.341325</td>\n",
       "      <td>0.967343</td>\n",
       "    </tr>\n",
       "  </tbody>\n",
       "</table>\n",
       "</div>"
      ],
      "text/plain": [
       "          0         1         2         3         4\n",
       "0  0.931942  0.006906  0.104345  0.606355  0.832530\n",
       "1  0.842246  0.580321  0.073481  0.946452  0.498966\n",
       "2  0.243707  0.886660  0.108087  0.724643  0.899571\n",
       "3  0.832235  0.599935  0.567816  0.761269  0.252595\n",
       "4  0.621047  0.279806  0.928731  0.772116  0.244789\n",
       "5  0.816036  0.836349  0.734068  0.917637  0.883636\n",
       "6  0.043016  0.118187  0.847845  0.969754  0.756291\n",
       "7  0.661960  0.283802  0.672630  0.266348  0.112762\n",
       "8  0.937726  0.126805  0.685633  0.111199  0.044366\n",
       "9  0.436026  0.667215  0.128041  0.341325  0.967343"
      ]
     },
     "execution_count": 10,
     "metadata": {},
     "output_type": "execute_result"
    }
   ],
   "source": [
    "df2 = pd.DataFrame(np.random.rand(10, 5))\n",
    "df2"
   ]
  },
  {
   "cell_type": "code",
   "execution_count": 12,
   "metadata": {},
   "outputs": [
    {
     "data": {
      "image/png": "[encoded data removed]",
      "text/plain": [
       "<Figure size 432x288 with 1 Axes>"
      ]
     },
     "metadata": {
      "needs_background": "light"
     },
     "output_type": "display_data"
    }
   ],
   "source": [
    "bp = df.boxplot()"
   ]
  },
  {
   "cell_type": "code",
   "execution_count": 13,
   "metadata": {},
   "outputs": [
    {
     "data": {
      "text/html": [
       "<div>\n",
       "<style scoped>\n",
       "    .dataframe tbody tr th:only-of-type {\n",
       "        vertical-align: middle;\n",
       "    }\n",
       "\n",
       "    .dataframe tbody tr th {\n",
       "        vertical-align: top;\n",
       "    }\n",
       "\n",
       "    .dataframe thead th {\n",
       "        text-align: right;\n",
       "    }\n",
       "</style>\n",
       "<table border=\"1\" class=\"dataframe\">\n",
       "  <thead>\n",
       "    <tr style=\"text-align: right;\">\n",
       "      <th></th>\n",
       "      <th>Col1</th>\n",
       "      <th>Col2</th>\n",
       "    </tr>\n",
       "  </thead>\n",
       "  <tbody>\n",
       "    <tr>\n",
       "      <th>0</th>\n",
       "      <td>0.301429</td>\n",
       "      <td>0.052611</td>\n",
       "    </tr>\n",
       "    <tr>\n",
       "      <th>1</th>\n",
       "      <td>0.058759</td>\n",
       "      <td>0.615154</td>\n",
       "    </tr>\n",
       "    <tr>\n",
       "      <th>2</th>\n",
       "      <td>0.709681</td>\n",
       "      <td>0.649749</td>\n",
       "    </tr>\n",
       "    <tr>\n",
       "      <th>3</th>\n",
       "      <td>0.168316</td>\n",
       "      <td>0.901445</td>\n",
       "    </tr>\n",
       "    <tr>\n",
       "      <th>4</th>\n",
       "      <td>0.282032</td>\n",
       "      <td>0.609169</td>\n",
       "    </tr>\n",
       "    <tr>\n",
       "      <th>5</th>\n",
       "      <td>0.480753</td>\n",
       "      <td>0.826246</td>\n",
       "    </tr>\n",
       "    <tr>\n",
       "      <th>6</th>\n",
       "      <td>0.393382</td>\n",
       "      <td>0.798347</td>\n",
       "    </tr>\n",
       "    <tr>\n",
       "      <th>7</th>\n",
       "      <td>0.151533</td>\n",
       "      <td>0.240712</td>\n",
       "    </tr>\n",
       "    <tr>\n",
       "      <th>8</th>\n",
       "      <td>0.547780</td>\n",
       "      <td>0.556743</td>\n",
       "    </tr>\n",
       "    <tr>\n",
       "      <th>9</th>\n",
       "      <td>0.978772</td>\n",
       "      <td>0.021563</td>\n",
       "    </tr>\n",
       "  </tbody>\n",
       "</table>\n",
       "</div>"
      ],
      "text/plain": [
       "       Col1      Col2\n",
       "0  0.301429  0.052611\n",
       "1  0.058759  0.615154\n",
       "2  0.709681  0.649749\n",
       "3  0.168316  0.901445\n",
       "4  0.282032  0.609169\n",
       "5  0.480753  0.826246\n",
       "6  0.393382  0.798347\n",
       "7  0.151533  0.240712\n",
       "8  0.547780  0.556743\n",
       "9  0.978772  0.021563"
      ]
     },
     "execution_count": 13,
     "metadata": {},
     "output_type": "execute_result"
    }
   ],
   "source": [
    "df3 = pd.DataFrame(np.random.rand(10, 2), columns=['Col1', 'Col2'])\n",
    "df3"
   ]
  },
  {
   "cell_type": "code",
   "execution_count": 14,
   "metadata": {},
   "outputs": [
    {
     "data": {
      "text/html": [
       "<div>\n",
       "<style scoped>\n",
       "    .dataframe tbody tr th:only-of-type {\n",
       "        vertical-align: middle;\n",
       "    }\n",
       "\n",
       "    .dataframe tbody tr th {\n",
       "        vertical-align: top;\n",
       "    }\n",
       "\n",
       "    .dataframe thead th {\n",
       "        text-align: right;\n",
       "    }\n",
       "</style>\n",
       "<table border=\"1\" class=\"dataframe\">\n",
       "  <thead>\n",
       "    <tr style=\"text-align: right;\">\n",
       "      <th></th>\n",
       "      <th>Col1</th>\n",
       "      <th>Col2</th>\n",
       "      <th>X</th>\n",
       "    </tr>\n",
       "  </thead>\n",
       "  <tbody>\n",
       "    <tr>\n",
       "      <th>0</th>\n",
       "      <td>0.301429</td>\n",
       "      <td>0.052611</td>\n",
       "      <td>A</td>\n",
       "    </tr>\n",
       "    <tr>\n",
       "      <th>1</th>\n",
       "      <td>0.058759</td>\n",
       "      <td>0.615154</td>\n",
       "      <td>A</td>\n",
       "    </tr>\n",
       "    <tr>\n",
       "      <th>2</th>\n",
       "      <td>0.709681</td>\n",
       "      <td>0.649749</td>\n",
       "      <td>A</td>\n",
       "    </tr>\n",
       "    <tr>\n",
       "      <th>3</th>\n",
       "      <td>0.168316</td>\n",
       "      <td>0.901445</td>\n",
       "      <td>A</td>\n",
       "    </tr>\n",
       "    <tr>\n",
       "      <th>4</th>\n",
       "      <td>0.282032</td>\n",
       "      <td>0.609169</td>\n",
       "      <td>A</td>\n",
       "    </tr>\n",
       "    <tr>\n",
       "      <th>5</th>\n",
       "      <td>0.480753</td>\n",
       "      <td>0.826246</td>\n",
       "      <td>B</td>\n",
       "    </tr>\n",
       "    <tr>\n",
       "      <th>6</th>\n",
       "      <td>0.393382</td>\n",
       "      <td>0.798347</td>\n",
       "      <td>B</td>\n",
       "    </tr>\n",
       "    <tr>\n",
       "      <th>7</th>\n",
       "      <td>0.151533</td>\n",
       "      <td>0.240712</td>\n",
       "      <td>B</td>\n",
       "    </tr>\n",
       "    <tr>\n",
       "      <th>8</th>\n",
       "      <td>0.547780</td>\n",
       "      <td>0.556743</td>\n",
       "      <td>B</td>\n",
       "    </tr>\n",
       "    <tr>\n",
       "      <th>9</th>\n",
       "      <td>0.978772</td>\n",
       "      <td>0.021563</td>\n",
       "      <td>B</td>\n",
       "    </tr>\n",
       "  </tbody>\n",
       "</table>\n",
       "</div>"
      ],
      "text/plain": [
       "       Col1      Col2  X\n",
       "0  0.301429  0.052611  A\n",
       "1  0.058759  0.615154  A\n",
       "2  0.709681  0.649749  A\n",
       "3  0.168316  0.901445  A\n",
       "4  0.282032  0.609169  A\n",
       "5  0.480753  0.826246  B\n",
       "6  0.393382  0.798347  B\n",
       "7  0.151533  0.240712  B\n",
       "8  0.547780  0.556743  B\n",
       "9  0.978772  0.021563  B"
      ]
     },
     "execution_count": 14,
     "metadata": {},
     "output_type": "execute_result"
    }
   ],
   "source": [
    "df3['X'] = pd.Series(['A', 'A', 'A', 'A', 'A', 'B', 'B', 'B', 'B', 'B'])\n",
    "df3"
   ]
  },
  {
   "cell_type": "code",
   "execution_count": 17,
   "metadata": {},
   "outputs": [
    {
     "data": {
      "image/png": "[encoded data removed]",
      "text/plain": [
       "<Figure size 432x288 with 2 Axes>"
      ]
     },
     "metadata": {
      "needs_background": "light"
     },
     "output_type": "display_data"
    }
   ],
   "source": [
    "bp = df3.boxplot(by='X')"
   ]
  },
  {
   "cell_type": "code",
   "execution_count": 18,
   "metadata": {},
   "outputs": [
    {
     "data": {
      "image/png": "[encoded data removed]",
      "text/plain": [
       "<Figure size 432x288 with 2 Axes>"
      ]
     },
     "metadata": {
      "needs_background": "light"
     },
     "output_type": "display_data"
    }
   ],
   "source": [
    "np.random.seed(1234)\n",
    "df_box = pd.DataFrame(np.random.randn(50, 2))\n",
    "df_box['g'] = np.random.choice(['A', 'B'], size=50)\n",
    "df_box.loc[df_box['g'] == 'B', 1] += 3\n",
    "bp = df_box.boxplot(by='g')"
   ]
  },
  {
   "cell_type": "code",
   "execution_count": 19,
   "metadata": {},
   "outputs": [
    {
     "data": {
      "image/png": "[encoded data removed]",
      "text/plain": [
       "<Figure size 432x288 with 2 Axes>"
      ]
     },
     "metadata": {
      "needs_background": "light"
     },
     "output_type": "display_data"
    }
   ],
   "source": [
    "bp = df_box.groupby('g').boxplot()"
   ]
  },
  {
   "cell_type": "code",
   "execution_count": null,
   "metadata": {},
   "outputs": [],
   "source": []
  }
 ],
 "metadata": {
  "kernelspec": {
   "display_name": "Python 3",
   "language": "python",
   "name": "python3"
  },
  "language_info": {
   "codemirror_mode": {
    "name": "ipython",
    "version": 3
   },
   "file_extension": ".py",
   "mimetype": "text/x-python",
   "name": "python",
   "nbconvert_exporter": "python",
   "pygments_lexer": "ipython3",
   "version": "3.8.0"
  }
 },
 "nbformat": 4,
 "nbformat_minor": 2
}
